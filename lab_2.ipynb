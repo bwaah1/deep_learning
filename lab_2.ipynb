{
  "nbformat": 4,
  "nbformat_minor": 0,
  "metadata": {
    "colab": {
      "provenance": []
    },
    "kernelspec": {
      "name": "python3",
      "display_name": "Python 3"
    },
    "language_info": {
      "name": "python"
    }
  },
  "cells": [
    {
      "cell_type": "markdown",
      "source": [
        "# Лабораторна робота 2\n",
        "\n",
        "**Виконав:** Чик Іван<br>\n",
        "**Мета:** Змінити код нейронної мережі, створити валідаційний датасет, використати функцію EarlyStopping() та шар Dropout."
      ],
      "metadata": {
        "id": "3LWqhrvgyvz-"
      }
    },
    {
      "cell_type": "code",
      "execution_count": 1,
      "metadata": {
        "colab": {
          "base_uri": "https://localhost:8080/"
        },
        "id": "oHeyldvg75wj",
        "outputId": "b80b621d-37e2-4b50-bb9f-9503413f11f1"
      },
      "outputs": [
        {
          "output_type": "stream",
          "name": "stdout",
          "text": [
            "Mounted at /content/gdrive\n",
            "/content/gdrive/MyDrive\n"
          ]
        }
      ],
      "source": [
        "from google.colab import drive\n",
        "drive.mount('/content/gdrive')\n",
        "%cd /content/gdrive/MyDrive/"
      ]
    },
    {
      "cell_type": "code",
      "source": [
        "import keras\n",
        "from keras.models import Sequential\n",
        "from keras.optimizers import Adam, SGD\n",
        "from keras.layers import Dense, Dropout\n",
        "from keras.callbacks import EarlyStopping, LearningRateScheduler\n",
        "from keras.optimizers.schedules import CosineDecay\n",
        "import matplotlib.pyplot as plt\n",
        "from sklearn.preprocessing import MinMaxScaler, OneHotEncoder\n",
        "from sklearn.model_selection import train_test_split\n",
        "from datetime import datetime\n",
        "import numpy as np\n",
        "\n",
        "dataset = np.loadtxt(\"machine learning/pima-indians-diabetes.csv\", delimiter=\",\")\n",
        "X=dataset[:,0:8]\n",
        "Y=dataset[:,8]\n",
        "\n",
        "encoder = OneHotEncoder(sparse_output=False)\n",
        "Y = encoder.fit_transform(Y.reshape(-1, 1))\n",
        "X_train, X_test, Y_train, Y_test = train_test_split(X, Y, test_size=0.2, random_state=42)\n",
        "\n",
        "scaler = MinMaxScaler()\n",
        "X_train = scaler.fit_transform(X_train)\n",
        "X_test = scaler.transform(X_test)\n",
        "\n",
        "model = Sequential([\n",
        "  Dense(256, input_dim=np.size(X,1), activation='relu'),\n",
        "  Dropout(0.2),\n",
        "  Dense(128, activation='relu'),\n",
        "  Dense(2, activation='softmax')])\n",
        "\n",
        "epochs=400\n",
        "initial_learning_rate=0.01\n",
        "decay_steps=epochs\n",
        "\n",
        "cosine_decay=CosineDecay(initial_learning_rate, decay_steps)\n",
        "\n",
        "model.compile(loss='categorical_crossentropy', optimizer=Adam(learning_rate=cosine_decay, amsgrad=True), metrics=['accuracy'])\n",
        "model.summary()\n",
        "start=datetime.now()\n",
        "\n",
        "early_stopping = EarlyStopping(monitor='val_loss', patience=20)\n",
        "history = model.fit(X_train, Y_train, validation_data=(X_test, Y_test), epochs=epochs, batch_size=32, callbacks=[early_stopping])\n",
        "end = datetime.now()\n",
        "print(\"Training time\",end-start)\n",
        "\n",
        "loss, accuracy = model.evaluate(X_test, Y_test)\n",
        "print(\"\\nLoss: %.2f, Accuracy: %.2f%%\" % (loss, accuracy*100))\n",
        "\n",
        "probabilities = model.predict(X_test)\n",
        "predicted_labels = np.argmax(probabilities, axis=1)\n",
        "true_labels = np.argmax(Y_test, axis=1)\n",
        "accuracy = np.mean(predicted_labels == true_labels)\n",
        "print(\"Prediction Accuracy: %.2f%%\" % (accuracy * 100))\n",
        "\n",
        "accuracy = history.history['accuracy']\n",
        "loss = history.history['loss']\n",
        "val_accuracy = history.history['val_accuracy']\n",
        "val_loss = history.history['val_loss']\n",
        "\n",
        "model.save('my_model2.h5')\n",
        "\n",
        "plt.figure(figsize=(10,5))\n",
        "plt.title('Loss function')\n",
        "plt.plot(val_loss, 'k')\n",
        "\n",
        "plt.show()"
      ],
      "metadata": {
        "id": "IcTkmrY6sqW8",
        "colab": {
          "base_uri": "https://localhost:8080/",
          "height": 1000
        },
        "outputId": "4bab7cdb-cc1e-4ebd-dfea-466a0a8e0892"
      },
      "execution_count": 63,
      "outputs": [
        {
          "output_type": "stream",
          "name": "stdout",
          "text": [
            "Model: \"sequential_61\"\n",
            "_________________________________________________________________\n",
            " Layer (type)                Output Shape              Param #   \n",
            "=================================================================\n",
            " dense_187 (Dense)           (None, 256)               2304      \n",
            "                                                                 \n",
            " dropout_61 (Dropout)        (None, 256)               0         \n",
            "                                                                 \n",
            " dense_188 (Dense)           (None, 128)               32896     \n",
            "                                                                 \n",
            " dense_189 (Dense)           (None, 2)                 258       \n",
            "                                                                 \n",
            "=================================================================\n",
            "Total params: 35458 (138.51 KB)\n",
            "Trainable params: 35458 (138.51 KB)\n",
            "Non-trainable params: 0 (0.00 Byte)\n",
            "_________________________________________________________________\n",
            "Epoch 1/400\n",
            "20/20 [==============================] - 2s 19ms/step - loss: 0.6488 - accuracy: 0.6368 - val_loss: 0.5963 - val_accuracy: 0.6364\n",
            "Epoch 2/400\n",
            "20/20 [==============================] - 0s 7ms/step - loss: 0.5581 - accuracy: 0.7003 - val_loss: 0.6762 - val_accuracy: 0.6558\n",
            "Epoch 3/400\n",
            "20/20 [==============================] - 0s 7ms/step - loss: 0.5671 - accuracy: 0.7052 - val_loss: 0.5325 - val_accuracy: 0.7338\n",
            "Epoch 4/400\n",
            "20/20 [==============================] - 0s 8ms/step - loss: 0.5033 - accuracy: 0.7378 - val_loss: 0.5300 - val_accuracy: 0.7273\n",
            "Epoch 5/400\n",
            "20/20 [==============================] - 0s 8ms/step - loss: 0.5000 - accuracy: 0.7671 - val_loss: 0.5656 - val_accuracy: 0.6753\n",
            "Epoch 6/400\n",
            "20/20 [==============================] - 0s 6ms/step - loss: 0.5332 - accuracy: 0.7362 - val_loss: 0.5503 - val_accuracy: 0.6818\n",
            "Epoch 7/400\n",
            "20/20 [==============================] - 0s 5ms/step - loss: 0.4700 - accuracy: 0.7785 - val_loss: 0.5933 - val_accuracy: 0.6818\n",
            "Epoch 8/400\n",
            "20/20 [==============================] - 0s 4ms/step - loss: 0.5128 - accuracy: 0.7313 - val_loss: 0.5325 - val_accuracy: 0.7208\n",
            "Epoch 9/400\n",
            "20/20 [==============================] - 0s 5ms/step - loss: 0.4670 - accuracy: 0.7866 - val_loss: 0.4968 - val_accuracy: 0.7922\n",
            "Epoch 10/400\n",
            "20/20 [==============================] - 0s 5ms/step - loss: 0.4555 - accuracy: 0.7687 - val_loss: 0.5146 - val_accuracy: 0.7273\n",
            "Epoch 11/400\n",
            "20/20 [==============================] - 0s 5ms/step - loss: 0.4559 - accuracy: 0.7980 - val_loss: 0.5120 - val_accuracy: 0.7792\n",
            "Epoch 12/400\n",
            "20/20 [==============================] - 0s 5ms/step - loss: 0.4436 - accuracy: 0.7899 - val_loss: 0.4987 - val_accuracy: 0.7857\n",
            "Epoch 13/400\n",
            "20/20 [==============================] - 0s 5ms/step - loss: 0.4402 - accuracy: 0.7883 - val_loss: 0.5070 - val_accuracy: 0.7403\n",
            "Epoch 14/400\n",
            "20/20 [==============================] - 0s 5ms/step - loss: 0.4384 - accuracy: 0.7834 - val_loss: 0.5095 - val_accuracy: 0.7597\n",
            "Epoch 15/400\n",
            "20/20 [==============================] - 0s 4ms/step - loss: 0.4118 - accuracy: 0.7997 - val_loss: 0.5182 - val_accuracy: 0.7532\n",
            "Epoch 16/400\n",
            "20/20 [==============================] - 0s 5ms/step - loss: 0.4291 - accuracy: 0.7899 - val_loss: 0.5209 - val_accuracy: 0.7662\n",
            "Epoch 17/400\n",
            "20/20 [==============================] - 0s 4ms/step - loss: 0.4154 - accuracy: 0.7932 - val_loss: 0.5135 - val_accuracy: 0.7922\n",
            "Epoch 18/400\n",
            "20/20 [==============================] - 0s 5ms/step - loss: 0.4217 - accuracy: 0.7980 - val_loss: 0.5153 - val_accuracy: 0.7727\n",
            "Epoch 19/400\n",
            "20/20 [==============================] - 0s 5ms/step - loss: 0.4150 - accuracy: 0.7964 - val_loss: 0.5167 - val_accuracy: 0.7597\n",
            "Epoch 20/400\n",
            "20/20 [==============================] - 0s 4ms/step - loss: 0.4171 - accuracy: 0.8078 - val_loss: 0.5165 - val_accuracy: 0.7662\n",
            "Epoch 21/400\n",
            "20/20 [==============================] - 0s 4ms/step - loss: 0.4186 - accuracy: 0.7980 - val_loss: 0.5165 - val_accuracy: 0.7662\n",
            "Epoch 22/400\n",
            "20/20 [==============================] - 0s 4ms/step - loss: 0.4176 - accuracy: 0.7899 - val_loss: 0.5165 - val_accuracy: 0.7662\n",
            "Epoch 23/400\n",
            "20/20 [==============================] - 0s 4ms/step - loss: 0.4144 - accuracy: 0.7948 - val_loss: 0.5165 - val_accuracy: 0.7662\n",
            "Epoch 24/400\n",
            "20/20 [==============================] - 0s 4ms/step - loss: 0.4203 - accuracy: 0.8046 - val_loss: 0.5165 - val_accuracy: 0.7662\n",
            "Epoch 25/400\n",
            "20/20 [==============================] - 0s 5ms/step - loss: 0.4199 - accuracy: 0.7997 - val_loss: 0.5165 - val_accuracy: 0.7662\n",
            "Epoch 26/400\n",
            "20/20 [==============================] - 0s 4ms/step - loss: 0.4160 - accuracy: 0.7997 - val_loss: 0.5165 - val_accuracy: 0.7662\n",
            "Epoch 27/400\n",
            "20/20 [==============================] - 0s 4ms/step - loss: 0.4193 - accuracy: 0.7997 - val_loss: 0.5165 - val_accuracy: 0.7662\n",
            "Epoch 28/400\n",
            "20/20 [==============================] - 0s 4ms/step - loss: 0.4175 - accuracy: 0.8013 - val_loss: 0.5165 - val_accuracy: 0.7662\n",
            "Epoch 29/400\n",
            "20/20 [==============================] - 0s 5ms/step - loss: 0.4208 - accuracy: 0.7834 - val_loss: 0.5165 - val_accuracy: 0.7662\n",
            "Training time 0:00:04.715107\n",
            "5/5 [==============================] - 0s 3ms/step - loss: 0.5165 - accuracy: 0.7662\n",
            "\n",
            "Loss: 0.52, Accuracy: 76.62%\n",
            "5/5 [==============================] - 0s 2ms/step\n",
            "Prediction Accuracy: 76.62%\n"
          ]
        },
        {
          "output_type": "stream",
          "name": "stderr",
          "text": [
            "/usr/local/lib/python3.10/dist-packages/keras/src/engine/training.py:3079: UserWarning: You are saving your model as an HDF5 file via `model.save()`. This file format is considered legacy. We recommend using instead the native Keras format, e.g. `model.save('my_model.keras')`.\n",
            "  saving_api.save_model(\n"
          ]
        },
        {
          "output_type": "display_data",
          "data": {
            "text/plain": [
              "<Figure size 1000x500 with 1 Axes>"
            ],
            "image/png": "[encoded data removed]"
          },
          "metadata": {}
        }
      ]
    },
    {
      "cell_type": "markdown",
      "source": [
        "1. Імпортуємо бібліотеки для роботи з даними та для машинного навчання"
      ],
      "metadata": {
        "id": "Zi8SxXz945jT"
      }
    },
    {
      "cell_type": "code",
      "source": [
        "import keras\n",
        "from keras.models import Sequential\n",
        "from keras.layers import Dense, Dropout\n",
        "from keras.callbacks import EarlyStopping\n",
        "import matplotlib.pyplot as plt\n",
        "from sklearn.preprocessing import MinMaxScaler, OneHotEncoder\n",
        "from sklearn.model_selection import train_test_split\n",
        "from datetime import datetime\n",
        "import numpy as np"
      ],
      "metadata": {
        "id": "ugQJPozf-kKN"
      },
      "execution_count": null,
      "outputs": []
    },
    {
      "cell_type": "markdown",
      "source": [
        "2. Завантажуємо датасет у змінну та підготовлюємо його за допомогою функцій MinMaxScaler() та OneHotEncoder(), sparse=False означає, що нам потрібен розріджений масив замість розрідженої матриці."
      ],
      "metadata": {
        "id": "s3y8QR8y5DMK"
      }
    },
    {
      "cell_type": "code",
      "source": [
        "dataset = np.loadtxt(\"machine learning/pima-indians-diabetes.csv\", delimiter=\",\")\n",
        "X=dataset[:,0:8]\n",
        "Y=dataset[:,8]\n",
        "\n",
        "encoder = OneHotEncoder(sparse=False)\n",
        "Y = encoder.fit_transform(Y.reshape(-1, 1))\n",
        "print(Y)\n",
        "X_train, X_test, Y_train, Y_test = train_test_split(X, Y, test_size=0.2, random_state=42)\n",
        "\n",
        "scaler = MinMaxScaler()\n",
        "X_train = scaler.fit_transform(X_train)\n",
        "X_test = scaler.transform(X_test)"
      ],
      "metadata": {
        "id": "HU0IYX_T43gh",
        "colab": {
          "base_uri": "https://localhost:8080/"
        },
        "outputId": "654682cd-9e40-4138-e65e-f1acf1a56f90"
      },
      "execution_count": null,
      "outputs": [
        {
          "output_type": "stream",
          "name": "stdout",
          "text": [
            "[[0. 1.]\n",
            " [1. 0.]\n",
            " [0. 1.]\n",
            " ...\n",
            " [1. 0.]\n",
            " [0. 1.]\n",
            " [1. 0.]]\n"
          ]
        },
        {
          "output_type": "stream",
          "name": "stderr",
          "text": [
            "/usr/local/lib/python3.10/dist-packages/sklearn/preprocessing/_encoders.py:868: FutureWarning: `sparse` was renamed to `sparse_output` in version 1.2 and will be removed in 1.4. `sparse_output` is ignored unless you leave `sparse` to its default value.\n",
            "  warnings.warn(\n"
          ]
        }
      ]
    },
    {
      "cell_type": "markdown",
      "source": [
        "3. Створюємо модель нейронної мережі:\n",
        "Перший прихований шар - 256 нейронів, функція активації ReLU\n",
        "Другий прихований шар - 128 нейронів, функція активації ReLU\n",
        "Вихідний шар - 2 нейрони, функція активації SoftMax"
      ],
      "metadata": {
        "id": "IZL0DZcCQgty"
      }
    },
    {
      "cell_type": "code",
      "source": [
        "model = Sequential([\n",
        "  Dense(256, input_dim=np.size(X,1), activation='relu'),\n",
        "  Dropout(0.1),\n",
        "  Dense(128, activation='relu'),\n",
        "  Dense(2, activation='softmax')])"
      ],
      "metadata": {
        "id": "13jqkMbOQg8A"
      },
      "execution_count": null,
      "outputs": []
    },
    {
      "cell_type": "markdown",
      "source": [
        "4. Скомпільовуємо модель, функція втрат - binary crossentropy та оптимізатор Adam із рівнем навчання 0.001\n"
      ],
      "metadata": {
        "id": "d_p-DKGERSAj"
      }
    },
    {
      "cell_type": "code",
      "source": [
        "#model.compile(loss='binary_crossentropy', optimizer=keras.optimizers.RMSprop(learning_rate=0.001), metrics=['accuracy'])\n",
        "model.compile(loss='categorical_crossentropy', optimizer=keras.optimizers.Adam(learning_rate=0.001), metrics=['accuracy'])\n",
        "model.summary()\n",
        "start=datetime.now()"
      ],
      "metadata": {
        "colab": {
          "base_uri": "https://localhost:8080/"
        },
        "id": "OW8BlN5HRSPP",
        "outputId": "480ddd27-dcbe-42ce-8ea8-80ab2b4ac83f"
      },
      "execution_count": null,
      "outputs": [
        {
          "output_type": "stream",
          "name": "stdout",
          "text": [
            "Model: \"sequential_2\"\n",
            "_________________________________________________________________\n",
            " Layer (type)                Output Shape              Param #   \n",
            "=================================================================\n",
            " dense_6 (Dense)             (None, 256)               2304      \n",
            "                                                                 \n",
            " dropout_2 (Dropout)         (None, 256)               0         \n",
            "                                                                 \n",
            " dense_7 (Dense)             (None, 128)               32896     \n",
            "                                                                 \n",
            " dense_8 (Dense)             (None, 2)                 258       \n",
            "                                                                 \n",
            "=================================================================\n",
            "Total params: 35458 (138.51 KB)\n",
            "Trainable params: 35458 (138.51 KB)\n",
            "Non-trainable params: 0 (0.00 Byte)\n",
            "_________________________________________________________________\n"
          ]
        }
      ]
    },
    {
      "cell_type": "markdown",
      "source": [
        "5. Підігнати модель до даних означає навчити модель на певних даних(X та Y_enc).\n",
        "verbose=2 вказує, скільки логів ми побачимо під час руху моделі. Функція EarlyStopping() припиняє тренування, коли показник 'val_loss' перестав покращуватися."
      ],
      "metadata": {
        "id": "sXSWhquPRzIb"
      }
    },
    {
      "cell_type": "code",
      "source": [
        "early_stopping = EarlyStopping(monitor='val_loss', patience=20, restore_best_weights=True)  # Adjust patience as needed\n",
        "history = model.fit(X_train, Y_train, validation_data=(X_test, Y_test), epochs=400, batch_size=16, verbose=2, callbacks=early_stopping)\n",
        "end = datetime.now()\n",
        "print(\"Training time\",end-start)"
      ],
      "metadata": {
        "colab": {
          "base_uri": "https://localhost:8080/"
        },
        "id": "Dlbk0AFHRzTJ",
        "outputId": "761b635c-78a2-4ed5-9bd9-8478ab667ae1"
      },
      "execution_count": null,
      "outputs": [
        {
          "output_type": "stream",
          "name": "stdout",
          "text": [
            "Epoch 1/400\n",
            "77/77 - 1s - loss: 0.4342 - accuracy: 0.7997 - val_loss: 0.5112 - val_accuracy: 0.7987 - 1s/epoch - 13ms/step\n",
            "Epoch 2/400\n",
            "77/77 - 1s - loss: 0.4416 - accuracy: 0.7834 - val_loss: 0.5473 - val_accuracy: 0.6883 - 1s/epoch - 14ms/step\n",
            "Epoch 3/400\n",
            "77/77 - 2s - loss: 0.4443 - accuracy: 0.7736 - val_loss: 0.5060 - val_accuracy: 0.7922 - 2s/epoch - 22ms/step\n",
            "Epoch 4/400\n",
            "77/77 - 0s - loss: 0.4461 - accuracy: 0.7850 - val_loss: 0.5029 - val_accuracy: 0.7727 - 381ms/epoch - 5ms/step\n",
            "Epoch 5/400\n",
            "77/77 - 0s - loss: 0.4293 - accuracy: 0.7932 - val_loss: 0.5148 - val_accuracy: 0.7987 - 352ms/epoch - 5ms/step\n",
            "Epoch 6/400\n",
            "77/77 - 0s - loss: 0.4308 - accuracy: 0.7997 - val_loss: 0.5058 - val_accuracy: 0.7857 - 239ms/epoch - 3ms/step\n",
            "Epoch 7/400\n",
            "77/77 - 0s - loss: 0.4231 - accuracy: 0.7997 - val_loss: 0.5098 - val_accuracy: 0.7662 - 230ms/epoch - 3ms/step\n",
            "Epoch 8/400\n",
            "77/77 - 0s - loss: 0.4192 - accuracy: 0.8029 - val_loss: 0.5127 - val_accuracy: 0.7857 - 282ms/epoch - 4ms/step\n",
            "Epoch 9/400\n",
            "77/77 - 0s - loss: 0.4452 - accuracy: 0.7785 - val_loss: 0.5150 - val_accuracy: 0.7338 - 260ms/epoch - 3ms/step\n",
            "Epoch 10/400\n",
            "77/77 - 0s - loss: 0.4250 - accuracy: 0.7964 - val_loss: 0.5090 - val_accuracy: 0.7727 - 268ms/epoch - 3ms/step\n",
            "Epoch 11/400\n",
            "77/77 - 0s - loss: 0.4208 - accuracy: 0.7834 - val_loss: 0.5362 - val_accuracy: 0.7922 - 287ms/epoch - 4ms/step\n",
            "Epoch 12/400\n",
            "77/77 - 0s - loss: 0.4194 - accuracy: 0.8013 - val_loss: 0.5216 - val_accuracy: 0.7338 - 313ms/epoch - 4ms/step\n",
            "Epoch 13/400\n",
            "77/77 - 0s - loss: 0.4189 - accuracy: 0.7948 - val_loss: 0.5448 - val_accuracy: 0.7143 - 242ms/epoch - 3ms/step\n",
            "Epoch 14/400\n",
            "77/77 - 0s - loss: 0.4169 - accuracy: 0.8078 - val_loss: 0.5149 - val_accuracy: 0.7338 - 301ms/epoch - 4ms/step\n",
            "Epoch 15/400\n",
            "77/77 - 0s - loss: 0.4119 - accuracy: 0.8046 - val_loss: 0.5928 - val_accuracy: 0.6753 - 296ms/epoch - 4ms/step\n",
            "Epoch 16/400\n",
            "77/77 - 0s - loss: 0.4089 - accuracy: 0.8094 - val_loss: 0.5224 - val_accuracy: 0.7532 - 269ms/epoch - 3ms/step\n",
            "Epoch 17/400\n",
            "77/77 - 0s - loss: 0.4095 - accuracy: 0.8062 - val_loss: 0.5312 - val_accuracy: 0.7662 - 257ms/epoch - 3ms/step\n",
            "Epoch 18/400\n",
            "77/77 - 0s - loss: 0.4166 - accuracy: 0.7980 - val_loss: 0.5258 - val_accuracy: 0.7338 - 237ms/epoch - 3ms/step\n",
            "Epoch 19/400\n",
            "77/77 - 0s - loss: 0.4108 - accuracy: 0.8094 - val_loss: 0.5218 - val_accuracy: 0.7857 - 314ms/epoch - 4ms/step\n",
            "Epoch 20/400\n",
            "77/77 - 0s - loss: 0.4119 - accuracy: 0.8111 - val_loss: 0.5276 - val_accuracy: 0.7532 - 272ms/epoch - 4ms/step\n",
            "Epoch 21/400\n",
            "77/77 - 0s - loss: 0.4107 - accuracy: 0.8094 - val_loss: 0.5280 - val_accuracy: 0.7468 - 288ms/epoch - 4ms/step\n",
            "Epoch 22/400\n",
            "77/77 - 0s - loss: 0.3968 - accuracy: 0.8241 - val_loss: 0.5302 - val_accuracy: 0.7792 - 265ms/epoch - 3ms/step\n",
            "Epoch 23/400\n",
            "77/77 - 0s - loss: 0.4021 - accuracy: 0.8013 - val_loss: 0.5616 - val_accuracy: 0.7273 - 290ms/epoch - 4ms/step\n",
            "Epoch 24/400\n",
            "77/77 - 0s - loss: 0.4199 - accuracy: 0.7980 - val_loss: 0.5180 - val_accuracy: 0.7597 - 304ms/epoch - 4ms/step\n",
            "Training time 0:02:02.959811\n"
          ]
        }
      ]
    },
    {
      "cell_type": "markdown",
      "source": [
        "6. Оцінюємо модель"
      ],
      "metadata": {
        "id": "gSYBLbDjeKDT"
      }
    },
    {
      "cell_type": "code",
      "source": [
        "loss, accuracy = model.evaluate(X_test, Y_test)\n",
        "print(\"\\nLoss: %.2f, Accuracy: %.2f%%\" % (loss, accuracy*100))"
      ],
      "metadata": {
        "colab": {
          "base_uri": "https://localhost:8080/"
        },
        "id": "t4SAvVsVeKSs",
        "outputId": "0977ed7e-3d2f-4105-dcfc-656b4eedb157"
      },
      "execution_count": null,
      "outputs": [
        {
          "output_type": "stream",
          "name": "stdout",
          "text": [
            "5/5 [==============================] - 0s 6ms/step - loss: 0.5029 - accuracy: 0.7727\n",
            "\n",
            "Loss: 0.50, Accuracy: 77.27%\n"
          ]
        }
      ]
    },
    {
      "cell_type": "markdown",
      "source": [
        "7. Функція predict() - це те, що ми викликаємо для того, щоб модель робила прогнози. У функцію predict() ми передаємо змінну під назвою X. Це змінна, яка містить наші тестові дані"
      ],
      "metadata": {
        "id": "sjkpEOD-TBfx"
      }
    },
    {
      "cell_type": "code",
      "source": [
        "probabilities = model.predict(X_test)\n",
        "predicted_labels = np.argmax(probabilities, axis=1)\n",
        "true_labels = np.argmax(Y_test, axis=1)\n",
        "accuracy = np.mean(predicted_labels == true_labels)\n",
        "print(\"Prediction Accuracy: %.2f%%\" % (accuracy * 100))\n",
        "\n",
        "accuracy = history.history['accuracy']\n",
        "loss = history.history['loss']\n",
        "val_accuracy = history.history['val_accuracy']\n",
        "val_loss = history.history['val_loss']\n",
        "\n",
        "model.save('my_model2.h5')"
      ],
      "metadata": {
        "colab": {
          "base_uri": "https://localhost:8080/"
        },
        "id": "7zkfGAS6TALq",
        "outputId": "11eddf90-1c09-41db-963a-9e0e12967e85"
      },
      "execution_count": null,
      "outputs": [
        {
          "output_type": "stream",
          "name": "stdout",
          "text": [
            "5/5 [==============================] - 0s 3ms/step\n",
            "Prediction Accuracy: 77.27%\n"
          ]
        },
        {
          "output_type": "stream",
          "name": "stderr",
          "text": [
            "/usr/local/lib/python3.10/dist-packages/keras/src/engine/training.py:3079: UserWarning: You are saving your model as an HDF5 file via `model.save()`. This file format is considered legacy. We recommend using instead the native Keras format, e.g. `model.save('my_model.keras')`.\n",
            "  saving_api.save_model(\n"
          ]
        }
      ]
    },
    {
      "cell_type": "markdown",
      "source": [
        "8. Будуємо графік функції втрат, як бачимо, втрати рухаються до нуля"
      ],
      "metadata": {
        "id": "S_qYGXRVTYLK"
      }
    },
    {
      "cell_type": "code",
      "source": [
        "plt.figure(figsize=(10,5))\n",
        "plt.title('Loss function')\n",
        "plt.plot(loss, 'k')\n",
        "\n",
        "plt.show()"
      ],
      "metadata": {
        "colab": {
          "base_uri": "https://localhost:8080/",
          "height": 412
        },
        "id": "XhEYiDUPWSbT",
        "outputId": "8a6554d3-69ec-4c62-eafe-1ede071838ea"
      },
      "execution_count": null,
      "outputs": [
        {
          "output_type": "display_data",
          "data": {
            "text/plain": [
              "<Figure size 1000x500 with 1 Axes>"
            ],
            "image/png": "[encoded data removed]"
          },
          "metadata": {}
        }
      ]
    },
    {
      "cell_type": "code",
      "source": [
        "!pip install keras==2.14.0 --upgrade"
      ],
      "metadata": {
        "colab": {
          "base_uri": "https://localhost:8080/",
          "height": 281
        },
        "id": "gbWRWblTWYkv",
        "outputId": "05ce82a8-ecbf-427d-ac93-f300c73aa0d8"
      },
      "execution_count": null,
      "outputs": [
        {
          "output_type": "stream",
          "name": "stdout",
          "text": [
            "Collecting keras==2.14.0\n",
            "  Downloading keras-2.14.0-py3-none-any.whl (1.7 MB)\n",
            "\u001b[2K     \u001b[90m━━━━━━━━━━━━━━━━━━━━━━━━━━━━━━━━━━━━━━━━\u001b[0m \u001b[32m1.7/1.7 MB\u001b[0m \u001b[31m6.7 MB/s\u001b[0m eta \u001b[36m0:00:00\u001b[0m\n",
            "\u001b[?25hInstalling collected packages: keras\n",
            "  Attempting uninstall: keras\n",
            "    Found existing installation: Keras 1.0.1\n",
            "    Uninstalling Keras-1.0.1:\n",
            "      Successfully uninstalled Keras-1.0.1\n",
            "Successfully installed keras-2.14.0\n"
          ]
        },
        {
          "output_type": "display_data",
          "data": {
            "application/vnd.colab-display-data+json": {
              "pip_warning": {
                "packages": [
                  "keras"
                ]
              }
            }
          },
          "metadata": {}
        }
      ]
    },
    {
      "cell_type": "markdown",
      "source": [
        "---\n",
        "\n",
        "**Оригінальний код**\n",
        "\n",
        "---"
      ],
      "metadata": {
        "id": "F4FSUn-BtOkm"
      }
    },
    {
      "cell_type": "code",
      "source": [
        "# -*- coding: utf-8 -*-\n",
        "\"\"\"\n",
        "Created on Wed Sep 21 12:13:34 2022\n",
        "\n",
        "@author: maksymyuk\n",
        "\"\"\"\n",
        "\n",
        "from keras.models import Sequential\n",
        "from keras.layers import Dense, Dropout\n",
        "from keras.optimizers import Adam\n",
        "from keras.callbacks import EarlyStopping\n",
        "from sklearn.model_selection import train_test_split\n",
        "from sklearn.preprocessing import MinMaxScaler  # Change to MinMaxScaler\n",
        "import numpy as np\n",
        "\n",
        "# Load and prepare the dataset\n",
        "dataset = np.loadtxt(\"machine learning/pima-indians-diabetes.csv\", delimiter=\",\")\n",
        "X = dataset[:, 0:8]\n",
        "Y = dataset[:, 8]\n",
        "X_train, X_test, Y_train, Y_test = train_test_split(X, Y, test_size=0.2, random_state=42)\n",
        "\n",
        "# Data preprocessing using MinMaxScaler\n",
        "scaler = MinMaxScaler()  # Use MinMaxScaler\n",
        "X_train = scaler.transform(X_train)\n",
        "X_test = scaler.fit_transform(X_test)\n",
        "\n",
        "# 1. define the network\n",
        "model = Sequential()\n",
        "model.add(Dense(256, input_dim=np.size(X, 1), activation='relu'))\n",
        "model.add(Dropout(0.1))  # Adjust dropout rate as needed\n",
        "model.add(Dense(128, activation='relu'))\n",
        "model.add(Dense(1, activation='sigmoid'))\n",
        "\n",
        "# 2. compile the network\n",
        "optimizer = Adam(learning_rate=0.001)  # Experiment with different learning rates\n",
        "model.compile(loss='binary_crossentropy', optimizer=optimizer, metrics=['accuracy'])\n",
        "model.summary()\n",
        "\n",
        "# 3. fit the network\n",
        "early_stopping = EarlyStopping(monitor='val_loss', patience=20, restore_best_weights=True)  # Adjust patience as needed\n",
        "history = model.fit(X_train, Y_train, validation_data=(X_test, Y_test), epochs=2000, batch_size=32, callbacks=early_stopping)\n",
        "\n",
        "# 4. evaluate the network\n",
        "loss, accuracy = model.evaluate(X_test, Y_test)\n",
        "print(\"\\nLoss: %.2f, Accuracy: %.2f%%\" % (loss, accuracy * 100))\n",
        "\n",
        "# 5. make predictions\n",
        "probabilities = model.predict(X_test)\n",
        "predictions = [1 if x > 0.5 else 0 for x in probabilities]\n",
        "accuracy = np.mean(predictions == Y_test)\n",
        "print(\"Prediction Accuracy: %.2f%%\" % (accuracy * 100))\n",
        "\n",
        "model.save('my_model.h5')\n",
        "\n",
        "\n",
        "\n"
      ],
      "metadata": {
        "id": "rmjGyYJv8Rhx"
      },
      "execution_count": null,
      "outputs": []
    }
  ]
}